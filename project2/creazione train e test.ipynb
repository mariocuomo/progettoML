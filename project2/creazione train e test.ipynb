{
 "cells": [
  {
   "cell_type": "code",
   "execution_count": 1,
   "id": "617ff872",
   "metadata": {},
   "outputs": [],
   "source": [
    "import shutil\n",
    "import pandas as pd\n",
    "import csv\n",
    "from sklearn.model_selection import train_test_split"
   ]
  },
  {
   "cell_type": "code",
   "execution_count": 2,
   "id": "9bfc6fbf",
   "metadata": {},
   "outputs": [],
   "source": [
    "import os\n",
    "  \n",
    "os.makedirs('C:/Users/cuomo/Desktop/prova')\n",
    "os.makedirs('C:/Users/cuomo/Desktop/prova/train')\n",
    "os.makedirs('C:/Users/cuomo/Desktop/prova/train/0')\n",
    "os.makedirs('C:/Users/cuomo/Desktop/prova/train/1')\n",
    "os.makedirs('C:/Users/cuomo/Desktop/prova/train/2')\n",
    "os.makedirs('C:/Users/cuomo/Desktop/prova/train/3')\n",
    "os.makedirs('C:/Users/cuomo/Desktop/prova/train/4')\n",
    "\n",
    "\n",
    "os.makedirs('C:/Users/cuomo/Desktop/prova/test')\n",
    "os.makedirs('C:/Users/cuomo/Desktop/prova/test/0')\n",
    "os.makedirs('C:/Users/cuomo/Desktop/prova/test/1')\n",
    "os.makedirs('C:/Users/cuomo/Desktop/prova/test/2')\n",
    "os.makedirs('C:/Users/cuomo/Desktop/prova/test/3')\n",
    "os.makedirs('C:/Users/cuomo/Desktop/prova/test/4')"
   ]
  },
  {
   "cell_type": "code",
   "execution_count": 3,
   "id": "c51f9b31",
   "metadata": {},
   "outputs": [],
   "source": [
    "df = pd.read_csv('C:\\\\Users\\\\cuomo\\\\Desktop\\\\resized_train_cropped\\\\trainLabels_cropped.csv')\n",
    "train, test = train_test_split(df, test_size=0.2)"
   ]
  },
  {
   "cell_type": "code",
   "execution_count": 8,
   "id": "78beaf61",
   "metadata": {},
   "outputs": [],
   "source": [
    "for i in range(len(train)):\n",
    "    nome_file = train.iloc[i, 2]\n",
    "    target = str(train.iloc[i, 3])\n",
    "    shutil.copy2('C:\\\\Users\\\\cuomo\\\\Desktop\\\\resized_train_cropped\\\\resized_train_cropped\\\\'+nome_file+'.jpeg', 'C:\\\\Users\\\\cuomo\\\\Desktop\\\\prova\\\\train\\\\'+target)"
   ]
  },
  {
   "cell_type": "code",
   "execution_count": 9,
   "id": "3aa24685",
   "metadata": {},
   "outputs": [],
   "source": [
    "for i in range(len(test)):\n",
    "    nome_file = train.iloc[i, 2]\n",
    "    target = str(train.iloc[i, 3])\n",
    "    shutil.copy2('C:\\\\Users\\\\cuomo\\\\Desktop\\\\resized_train_cropped\\\\resized_train_cropped\\\\'+nome_file+'.jpeg', 'C:\\\\Users\\\\cuomo\\\\Desktop\\\\prova\\\\test\\\\'+target)"
   ]
  },
  {
   "cell_type": "code",
   "execution_count": null,
   "id": "89a8d5b9",
   "metadata": {},
   "outputs": [],
   "source": []
  }
 ],
 "metadata": {
  "kernelspec": {
   "display_name": "Python 3 (ipykernel)",
   "language": "python",
   "name": "python3"
  },
  "language_info": {
   "codemirror_mode": {
    "name": "ipython",
    "version": 3
   },
   "file_extension": ".py",
   "mimetype": "text/x-python",
   "name": "python",
   "nbconvert_exporter": "python",
   "pygments_lexer": "ipython3",
   "version": "3.9.12"
  }
 },
 "nbformat": 4,
 "nbformat_minor": 5
}
